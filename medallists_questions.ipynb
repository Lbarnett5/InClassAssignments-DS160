{
 "cells": [
  {
   "cell_type": "markdown",
   "id": "91897254-5948-40f3-9e91-f60161871296",
   "metadata": {},
   "source": [
    "# 2024 Olymptic Medelist Dataset"
   ]
  },
  {
   "cell_type": "markdown",
   "id": "865bc8c9",
   "metadata": {},
   "source": [
    "## 1. How many unique countries are represented in the dataset?\n",
    "*Hint: Use the `unique()` or `nunique()` function on the `country` or `country_long` column.*"
   ]
  },
  {
   "cell_type": "code",
   "execution_count": null,
   "id": "031ad9e9",
   "metadata": {},
   "outputs": [],
   "source": [
    "# Your code here"
   ]
  },
  {
   "cell_type": "markdown",
   "id": "a78566bb",
   "metadata": {},
   "source": [
    "## 2. Which event had the most medalists?\n",
    "*Hint: Use `value_counts()` on the `event` column to determine the event with the highest number of medalists.*"
   ]
  },
  {
   "cell_type": "code",
   "execution_count": null,
   "id": "57b2aee6",
   "metadata": {},
   "outputs": [],
   "source": [
    "# Your code here"
   ]
  },
  {
   "cell_type": "markdown",
   "id": "4c26c537",
   "metadata": {},
   "source": [
    "## 3. What is the gender distribution of the medalists?\n",
    "*Hint: Use `value_counts()` on the `gender` column.*"
   ]
  },
  {
   "cell_type": "code",
   "execution_count": null,
   "id": "2c52e18a",
   "metadata": {},
   "outputs": [],
   "source": [
    "# Your code here"
   ]
  },
  {
   "cell_type": "markdown",
   "id": "94d04b5b",
   "metadata": {},
   "source": [
    "## 4. How many athletes from Belgium won medals?\n",
    "*Hint: Filter on the `country_code` column with `BEL` and check the number of rows.*"
   ]
  },
  {
   "cell_type": "code",
   "execution_count": null,
   "id": "80efb9eb",
   "metadata": {},
   "outputs": [],
   "source": [
    "# Your code here"
   ]
  },
  {
   "cell_type": "markdown",
   "id": "9cf977b1",
   "metadata": {},
   "source": [
    "## 5. What is the average age of gold medalists?\n",
    "*Hint: Filter for `Gold Medal` in the `medal_type` column, and calculate the difference between `medal_date` and `birth_date`.*"
   ]
  },
  {
   "cell_type": "code",
   "execution_count": null,
   "id": "d29d7a44",
   "metadata": {},
   "outputs": [],
   "source": [
    "# Your code here"
   ]
  },
  {
   "cell_type": "markdown",
   "id": "026d88a6",
   "metadata": {},
   "source": [
    "## 6. List the names of all athletes who won a silver medal in a cycling event.\n",
    "*Hint: Filter by `medal_type` (Silver) and `discipline` (Cycling Road), then display the `name` column.*"
   ]
  },
  {
   "cell_type": "code",
   "execution_count": null,
   "id": "215ab6f4",
   "metadata": {},
   "outputs": [],
   "source": [
    "# Your code here"
   ]
  },
  {
   "cell_type": "markdown",
   "id": "49ee100b",
   "metadata": {},
   "source": [
    "## 7. How many events did female athletes participate in?\n",
    "*Hint: Filter on `gender` (Female) and count the unique values in the `event` column.*"
   ]
  },
  {
   "cell_type": "code",
   "execution_count": null,
   "id": "2d092dd5",
   "metadata": {},
   "outputs": [],
   "source": [
    "# Your code here"
   ]
  },
  {
   "cell_type": "markdown",
   "id": "5643d60e",
   "metadata": {},
   "source": [
    "## 8. Which country had the highest number of gold medals?\n",
    "*Hint: Filter for `Gold Medal` in the `medal_type` column and use `value_counts()` on the `country` column.*"
   ]
  },
  {
   "cell_type": "code",
   "execution_count": null,
   "id": "ed09fc9e",
   "metadata": {},
   "outputs": [],
   "source": [
    "# Your code here"
   ]
  },
  {
   "cell_type": "markdown",
   "id": "f982cb2a",
   "metadata": {},
   "source": [
    "## 9. What are the top three most common disciplines for male athletes?\n",
    "*Hint: Filter by `gender` (Male) and use `value_counts()` on the `discipline` column to get the top three.*"
   ]
  },
  {
   "cell_type": "code",
   "execution_count": null,
   "id": "3c38804f",
   "metadata": {},
   "outputs": [],
   "source": [
    "# Your code here"
   ]
  },
  {
   "cell_type": "markdown",
   "id": "acc430dc",
   "metadata": {},
   "source": [
    "## 10. Find the youngest and oldest medalists in the dataset.\n",
    "*Hint: Calculate the difference between `medal_date` and `birth_date`, then use `min()` and `max()`.*"
   ]
  },
  {
   "cell_type": "code",
   "execution_count": null,
   "id": "f883224a",
   "metadata": {},
   "outputs": [],
   "source": [
    "# Your code here"
   ]
  }
 ],
 "metadata": {
  "kernelspec": {
   "display_name": "Python 3 (ipykernel)",
   "language": "python",
   "name": "python3"
  },
  "language_info": {
   "codemirror_mode": {
    "name": "ipython",
    "version": 3
   },
   "file_extension": ".py",
   "mimetype": "text/x-python",
   "name": "python",
   "nbconvert_exporter": "python",
   "pygments_lexer": "ipython3",
   "version": "3.12.4"
  }
 },
 "nbformat": 4,
 "nbformat_minor": 5
}
