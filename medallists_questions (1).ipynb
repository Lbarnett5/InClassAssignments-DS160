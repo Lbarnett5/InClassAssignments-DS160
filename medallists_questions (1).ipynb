{
 "cells": [
  {
   "cell_type": "markdown",
   "id": "91897254-5948-40f3-9e91-f60161871296",
   "metadata": {},
   "source": [
    "# 2024 Olymptic Medelist Dataset"
   ]
  },
  {
   "cell_type": "code",
   "execution_count": 46,
   "id": "064e890e-e875-47d4-bee8-95e12ad0d9a4",
   "metadata": {},
   "outputs": [
    {
     "data": {
      "text/html": [
       "<div>\n",
       "<style scoped>\n",
       "    .dataframe tbody tr th:only-of-type {\n",
       "        vertical-align: middle;\n",
       "    }\n",
       "\n",
       "    .dataframe tbody tr th {\n",
       "        vertical-align: top;\n",
       "    }\n",
       "\n",
       "    .dataframe thead th {\n",
       "        text-align: right;\n",
       "    }\n",
       "</style>\n",
       "<table border=\"1\" class=\"dataframe\">\n",
       "  <thead>\n",
       "    <tr style=\"text-align: right;\">\n",
       "      <th></th>\n",
       "      <th>medal_date</th>\n",
       "      <th>medal_type</th>\n",
       "      <th>medal_code</th>\n",
       "      <th>name</th>\n",
       "      <th>gender</th>\n",
       "      <th>country_code</th>\n",
       "      <th>country</th>\n",
       "      <th>country_long</th>\n",
       "      <th>nationality_code</th>\n",
       "      <th>nationality</th>\n",
       "      <th>...</th>\n",
       "      <th>team</th>\n",
       "      <th>team_gender</th>\n",
       "      <th>discipline</th>\n",
       "      <th>event</th>\n",
       "      <th>event_type</th>\n",
       "      <th>url_event</th>\n",
       "      <th>birth_date</th>\n",
       "      <th>code_athlete</th>\n",
       "      <th>code_team</th>\n",
       "      <th>is_medallist</th>\n",
       "    </tr>\n",
       "  </thead>\n",
       "  <tbody>\n",
       "    <tr>\n",
       "      <th>0</th>\n",
       "      <td>2024-07-27</td>\n",
       "      <td>Gold Medal</td>\n",
       "      <td>1.0</td>\n",
       "      <td>EVENEPOEL Remco</td>\n",
       "      <td>Male</td>\n",
       "      <td>BEL</td>\n",
       "      <td>Belgium</td>\n",
       "      <td>Belgium</td>\n",
       "      <td>BEL</td>\n",
       "      <td>Belgium</td>\n",
       "      <td>...</td>\n",
       "      <td>NaN</td>\n",
       "      <td>NaN</td>\n",
       "      <td>Cycling Road</td>\n",
       "      <td>Men's Individual Time Trial</td>\n",
       "      <td>ATH</td>\n",
       "      <td>/en/paris-2024/results/cycling-road/men-s-indi...</td>\n",
       "      <td>2000-01-25</td>\n",
       "      <td>1903136</td>\n",
       "      <td>NaN</td>\n",
       "      <td>True</td>\n",
       "    </tr>\n",
       "    <tr>\n",
       "      <th>1</th>\n",
       "      <td>2024-07-27</td>\n",
       "      <td>Silver Medal</td>\n",
       "      <td>2.0</td>\n",
       "      <td>GANNA Filippo</td>\n",
       "      <td>Male</td>\n",
       "      <td>ITA</td>\n",
       "      <td>Italy</td>\n",
       "      <td>Italy</td>\n",
       "      <td>ITA</td>\n",
       "      <td>Italy</td>\n",
       "      <td>...</td>\n",
       "      <td>NaN</td>\n",
       "      <td>NaN</td>\n",
       "      <td>Cycling Road</td>\n",
       "      <td>Men's Individual Time Trial</td>\n",
       "      <td>ATH</td>\n",
       "      <td>/en/paris-2024/results/cycling-road/men-s-indi...</td>\n",
       "      <td>1996-07-25</td>\n",
       "      <td>1923520</td>\n",
       "      <td>NaN</td>\n",
       "      <td>True</td>\n",
       "    </tr>\n",
       "    <tr>\n",
       "      <th>2</th>\n",
       "      <td>2024-07-27</td>\n",
       "      <td>Bronze Medal</td>\n",
       "      <td>3.0</td>\n",
       "      <td>van AERT Wout</td>\n",
       "      <td>Male</td>\n",
       "      <td>BEL</td>\n",
       "      <td>Belgium</td>\n",
       "      <td>Belgium</td>\n",
       "      <td>BEL</td>\n",
       "      <td>Belgium</td>\n",
       "      <td>...</td>\n",
       "      <td>NaN</td>\n",
       "      <td>NaN</td>\n",
       "      <td>Cycling Road</td>\n",
       "      <td>Men's Individual Time Trial</td>\n",
       "      <td>ATH</td>\n",
       "      <td>/en/paris-2024/results/cycling-road/men-s-indi...</td>\n",
       "      <td>1994-09-15</td>\n",
       "      <td>1903147</td>\n",
       "      <td>NaN</td>\n",
       "      <td>True</td>\n",
       "    </tr>\n",
       "    <tr>\n",
       "      <th>3</th>\n",
       "      <td>2024-07-27</td>\n",
       "      <td>Gold Medal</td>\n",
       "      <td>1.0</td>\n",
       "      <td>BROWN Grace</td>\n",
       "      <td>Female</td>\n",
       "      <td>AUS</td>\n",
       "      <td>Australia</td>\n",
       "      <td>Australia</td>\n",
       "      <td>AUS</td>\n",
       "      <td>Australia</td>\n",
       "      <td>...</td>\n",
       "      <td>NaN</td>\n",
       "      <td>NaN</td>\n",
       "      <td>Cycling Road</td>\n",
       "      <td>Women's Individual Time Trial</td>\n",
       "      <td>ATH</td>\n",
       "      <td>/en/paris-2024/results/cycling-road/women-s-in...</td>\n",
       "      <td>1992-07-07</td>\n",
       "      <td>1940173</td>\n",
       "      <td>NaN</td>\n",
       "      <td>True</td>\n",
       "    </tr>\n",
       "    <tr>\n",
       "      <th>4</th>\n",
       "      <td>2024-07-27</td>\n",
       "      <td>Silver Medal</td>\n",
       "      <td>2.0</td>\n",
       "      <td>HENDERSON Anna</td>\n",
       "      <td>Female</td>\n",
       "      <td>GBR</td>\n",
       "      <td>Great Britain</td>\n",
       "      <td>Great Britain</td>\n",
       "      <td>GBR</td>\n",
       "      <td>Great Britain</td>\n",
       "      <td>...</td>\n",
       "      <td>NaN</td>\n",
       "      <td>NaN</td>\n",
       "      <td>Cycling Road</td>\n",
       "      <td>Women's Individual Time Trial</td>\n",
       "      <td>ATH</td>\n",
       "      <td>/en/paris-2024/results/cycling-road/women-s-in...</td>\n",
       "      <td>1998-11-14</td>\n",
       "      <td>1912525</td>\n",
       "      <td>NaN</td>\n",
       "      <td>True</td>\n",
       "    </tr>\n",
       "  </tbody>\n",
       "</table>\n",
       "<p>5 rows × 21 columns</p>\n",
       "</div>"
      ],
      "text/plain": [
       "   medal_date    medal_type  medal_code             name  gender country_code  \\\n",
       "0  2024-07-27    Gold Medal         1.0  EVENEPOEL Remco    Male          BEL   \n",
       "1  2024-07-27  Silver Medal         2.0    GANNA Filippo    Male          ITA   \n",
       "2  2024-07-27  Bronze Medal         3.0    van AERT Wout    Male          BEL   \n",
       "3  2024-07-27    Gold Medal         1.0      BROWN Grace  Female          AUS   \n",
       "4  2024-07-27  Silver Medal         2.0   HENDERSON Anna  Female          GBR   \n",
       "\n",
       "         country   country_long nationality_code    nationality  ... team  \\\n",
       "0        Belgium        Belgium              BEL        Belgium  ...  NaN   \n",
       "1          Italy          Italy              ITA          Italy  ...  NaN   \n",
       "2        Belgium        Belgium              BEL        Belgium  ...  NaN   \n",
       "3      Australia      Australia              AUS      Australia  ...  NaN   \n",
       "4  Great Britain  Great Britain              GBR  Great Britain  ...  NaN   \n",
       "\n",
       "  team_gender    discipline                          event event_type  \\\n",
       "0         NaN  Cycling Road    Men's Individual Time Trial        ATH   \n",
       "1         NaN  Cycling Road    Men's Individual Time Trial        ATH   \n",
       "2         NaN  Cycling Road    Men's Individual Time Trial        ATH   \n",
       "3         NaN  Cycling Road  Women's Individual Time Trial        ATH   \n",
       "4         NaN  Cycling Road  Women's Individual Time Trial        ATH   \n",
       "\n",
       "                                           url_event  birth_date code_athlete  \\\n",
       "0  /en/paris-2024/results/cycling-road/men-s-indi...  2000-01-25      1903136   \n",
       "1  /en/paris-2024/results/cycling-road/men-s-indi...  1996-07-25      1923520   \n",
       "2  /en/paris-2024/results/cycling-road/men-s-indi...  1994-09-15      1903147   \n",
       "3  /en/paris-2024/results/cycling-road/women-s-in...  1992-07-07      1940173   \n",
       "4  /en/paris-2024/results/cycling-road/women-s-in...  1998-11-14      1912525   \n",
       "\n",
       "   code_team is_medallist  \n",
       "0        NaN         True  \n",
       "1        NaN         True  \n",
       "2        NaN         True  \n",
       "3        NaN         True  \n",
       "4        NaN         True  \n",
       "\n",
       "[5 rows x 21 columns]"
      ]
     },
     "execution_count": 46,
     "metadata": {},
     "output_type": "execute_result"
    }
   ],
   "source": [
    "import pandas as pd\n",
    "data=pd.read_csv(\"medallists.csv\")\n",
    "data.head()"
   ]
  },
  {
   "cell_type": "code",
   "execution_count": 47,
   "id": "3702bed6-054f-4dbf-8e0c-47bfdcac757a",
   "metadata": {},
   "outputs": [
    {
     "data": {
      "text/plain": [
       "Index(['medal_date', 'medal_type', 'medal_code', 'name', 'gender',\n",
       "       'country_code', 'country', 'country_long', 'nationality_code',\n",
       "       'nationality', 'nationality_long', 'team', 'team_gender', 'discipline',\n",
       "       'event', 'event_type', 'url_event', 'birth_date', 'code_athlete',\n",
       "       'code_team', 'is_medallist'],\n",
       "      dtype='object')"
      ]
     },
     "execution_count": 47,
     "metadata": {},
     "output_type": "execute_result"
    }
   ],
   "source": [
    "data.columns"
   ]
  },
  {
   "cell_type": "code",
   "execution_count": null,
   "id": "0779536c-b6f7-41f3-965c-2ba496ae61aa",
   "metadata": {},
   "outputs": [],
   "source": []
  },
  {
   "cell_type": "code",
   "execution_count": null,
   "id": "842d9c02-a2a8-46b5-abca-d0b32a522f7f",
   "metadata": {},
   "outputs": [],
   "source": []
  },
  {
   "cell_type": "markdown",
   "id": "865bc8c9",
   "metadata": {},
   "source": [
    "## 1. How many unique countries are represented in the dataset?\n",
    "*Hint: Use the `unique()` or `nunique()` function on the `country` or `country_long` column.*"
   ]
  },
  {
   "cell_type": "code",
   "execution_count": 49,
   "id": "031ad9e9",
   "metadata": {},
   "outputs": [
    {
     "data": {
      "text/plain": [
       "array(['Belgium', 'Italy', 'Australia', 'Great Britain', 'United States',\n",
       "       'Korea', 'Tunisia', 'Hong Kong, China', 'France', 'Hungary',\n",
       "       'Kazakhstan', 'Japan', 'Spain', 'Mongolia', 'Sweden', 'Germany',\n",
       "       'Canada', 'Poland', 'Egypt', 'Brazil', 'Republic of Moldova',\n",
       "       'Uzbekistan', 'Kosovo', 'China', 'India', 'Slovakia',\n",
       "       'South Africa', 'Ukraine', 'Azerbaijan', 'Croatia', 'Switzerland',\n",
       "       'Romania', 'Ireland', 'Georgia', 'Tajikistan', 'Slovenia',\n",
       "       'Mexico', 'Guatemala', 'Argentina', 'Greece', 'Austria',\n",
       "       'Netherlands', 'New Zealand', 'Ecuador', 'Israel', 'Portugal',\n",
       "       'Uganda', 'Ethiopia', 'AIN', 'Philippines', 'Norway', 'Grenada',\n",
       "       'Jamaica', 'Saint Lucia', 'Dominica', 'Chinese Taipei',\n",
       "       'Lithuania', 'Armenia', 'Algeria', 'Indonesia',\n",
       "       'Dominican Republic', 'Cabo Verde', 'Cuba', 'DPR Korea', 'Chile',\n",
       "       'Serbia', 'Colombia', 'Kenya', 'Denmark', 'Thailand', 'Malaysia',\n",
       "       'Bahrain', 'IR Iran', 'Kyrgyzstan', 'Türkiye', 'Morocco', 'Zambia',\n",
       "       'Cyprus', 'Peru', 'Botswana', 'Pakistan', 'Bulgaria', 'EOR',\n",
       "       'Jordan', 'Czechia', 'Singapore', 'Qatar', 'Puerto Rico', 'Panama',\n",
       "       \"Côte d'Ivoire\", 'Albania', 'Fiji'], dtype=object)"
      ]
     },
     "execution_count": 49,
     "metadata": {},
     "output_type": "execute_result"
    }
   ],
   "source": [
    "# Your code here\n",
    "data[\"country\"].unique()"
   ]
  },
  {
   "cell_type": "markdown",
   "id": "a78566bb",
   "metadata": {},
   "source": [
    "## 2. Which event had the most medalists?\n",
    "*Hint: Use `value_counts()` on the `event` column to determine the event with the highest number of medalists.*"
   ]
  },
  {
   "cell_type": "code",
   "execution_count": 51,
   "id": "57b2aee6",
   "metadata": {},
   "outputs": [
    {
     "data": {
      "text/plain": [
       "'Men'"
      ]
     },
     "execution_count": 51,
     "metadata": {},
     "output_type": "execute_result"
    }
   ],
   "source": [
    "# Your code here\n",
    "data['event'].value_counts().idxmax()"
   ]
  },
  {
   "cell_type": "markdown",
   "id": "4c26c537",
   "metadata": {},
   "source": [
    "## 3. What is the gender distribution of the medalists?\n",
    "*Hint: Use `value_counts()` on the `gender` column.*"
   ]
  },
  {
   "cell_type": "code",
   "execution_count": 53,
   "id": "2c52e18a",
   "metadata": {},
   "outputs": [
    {
     "data": {
      "text/plain": [
       "gender\n",
       "Female    1162\n",
       "Male      1153\n",
       "Name: count, dtype: int64"
      ]
     },
     "execution_count": 53,
     "metadata": {},
     "output_type": "execute_result"
    }
   ],
   "source": [
    "# Your code here\n",
    "data['gender'].value_counts()"
   ]
  },
  {
   "cell_type": "markdown",
   "id": "94d04b5b",
   "metadata": {},
   "source": [
    "## 4. How many athletes from Belgium won medals?\n",
    "*Hint: Filter on the `country_code` column with `BEL` and check the number of rows.*"
   ]
  },
  {
   "cell_type": "code",
   "execution_count": 55,
   "id": "80efb9eb",
   "metadata": {},
   "outputs": [
    {
     "data": {
      "text/plain": [
       "10"
      ]
     },
     "execution_count": 55,
     "metadata": {},
     "output_type": "execute_result"
    }
   ],
   "source": [
    "# Your code here\n",
    "len(data[(data.country_code==\"BEL\")])"
   ]
  },
  {
   "cell_type": "markdown",
   "id": "9cf977b1",
   "metadata": {},
   "source": [
    "## 5. What is the average age of gold medalists?\n",
    "*Hint: Filter for `Gold Medal` in the `medal_type` column, and calculate the difference between `medal_date` and `birth_date`.*"
   ]
  },
  {
   "cell_type": "code",
   "execution_count": 87,
   "id": "d29d7a44",
   "metadata": {},
   "outputs": [],
   "source": [
    "# Your code here\n",
    "golds=data[(data.medal_type==\"Gold Medal\")]"
   ]
  },
  {
   "cell_type": "code",
   "execution_count": 89,
   "id": "9c92b129-b4b4-4778-bf30-df2b5c07867e",
   "metadata": {},
   "outputs": [
    {
     "data": {
      "text/html": [
       "<div>\n",
       "<style scoped>\n",
       "    .dataframe tbody tr th:only-of-type {\n",
       "        vertical-align: middle;\n",
       "    }\n",
       "\n",
       "    .dataframe tbody tr th {\n",
       "        vertical-align: top;\n",
       "    }\n",
       "\n",
       "    .dataframe thead th {\n",
       "        text-align: right;\n",
       "    }\n",
       "</style>\n",
       "<table border=\"1\" class=\"dataframe\">\n",
       "  <thead>\n",
       "    <tr style=\"text-align: right;\">\n",
       "      <th></th>\n",
       "      <th>medal_date</th>\n",
       "      <th>medal_type</th>\n",
       "      <th>medal_code</th>\n",
       "      <th>name</th>\n",
       "      <th>gender</th>\n",
       "      <th>country_code</th>\n",
       "      <th>country</th>\n",
       "      <th>country_long</th>\n",
       "      <th>nationality_code</th>\n",
       "      <th>nationality</th>\n",
       "      <th>...</th>\n",
       "      <th>team</th>\n",
       "      <th>team_gender</th>\n",
       "      <th>discipline</th>\n",
       "      <th>event</th>\n",
       "      <th>event_type</th>\n",
       "      <th>url_event</th>\n",
       "      <th>birth_date</th>\n",
       "      <th>code_athlete</th>\n",
       "      <th>code_team</th>\n",
       "      <th>is_medallist</th>\n",
       "    </tr>\n",
       "  </thead>\n",
       "  <tbody>\n",
       "    <tr>\n",
       "      <th>0</th>\n",
       "      <td>2024-07-27</td>\n",
       "      <td>Gold Medal</td>\n",
       "      <td>1.0</td>\n",
       "      <td>EVENEPOEL Remco</td>\n",
       "      <td>Male</td>\n",
       "      <td>BEL</td>\n",
       "      <td>Belgium</td>\n",
       "      <td>Belgium</td>\n",
       "      <td>BEL</td>\n",
       "      <td>Belgium</td>\n",
       "      <td>...</td>\n",
       "      <td>NaN</td>\n",
       "      <td>NaN</td>\n",
       "      <td>Cycling Road</td>\n",
       "      <td>Men's Individual Time Trial</td>\n",
       "      <td>ATH</td>\n",
       "      <td>/en/paris-2024/results/cycling-road/men-s-indi...</td>\n",
       "      <td>2000-01-25</td>\n",
       "      <td>1903136</td>\n",
       "      <td>NaN</td>\n",
       "      <td>True</td>\n",
       "    </tr>\n",
       "    <tr>\n",
       "      <th>3</th>\n",
       "      <td>2024-07-27</td>\n",
       "      <td>Gold Medal</td>\n",
       "      <td>1.0</td>\n",
       "      <td>BROWN Grace</td>\n",
       "      <td>Female</td>\n",
       "      <td>AUS</td>\n",
       "      <td>Australia</td>\n",
       "      <td>Australia</td>\n",
       "      <td>AUS</td>\n",
       "      <td>Australia</td>\n",
       "      <td>...</td>\n",
       "      <td>NaN</td>\n",
       "      <td>NaN</td>\n",
       "      <td>Cycling Road</td>\n",
       "      <td>Women's Individual Time Trial</td>\n",
       "      <td>ATH</td>\n",
       "      <td>/en/paris-2024/results/cycling-road/women-s-in...</td>\n",
       "      <td>1992-07-07</td>\n",
       "      <td>1940173</td>\n",
       "      <td>NaN</td>\n",
       "      <td>True</td>\n",
       "    </tr>\n",
       "    <tr>\n",
       "      <th>6</th>\n",
       "      <td>2024-07-27</td>\n",
       "      <td>Gold Medal</td>\n",
       "      <td>1.0</td>\n",
       "      <td>OH Sanguk</td>\n",
       "      <td>Male</td>\n",
       "      <td>KOR</td>\n",
       "      <td>Korea</td>\n",
       "      <td>Republic of Korea</td>\n",
       "      <td>KOR</td>\n",
       "      <td>Korea</td>\n",
       "      <td>...</td>\n",
       "      <td>NaN</td>\n",
       "      <td>NaN</td>\n",
       "      <td>Fencing</td>\n",
       "      <td>Men's Sabre Individual</td>\n",
       "      <td>HATH</td>\n",
       "      <td>/en/paris-2024/results/fencing/men-s-sabre-ind...</td>\n",
       "      <td>1996-09-30</td>\n",
       "      <td>1927149</td>\n",
       "      <td>NaN</td>\n",
       "      <td>True</td>\n",
       "    </tr>\n",
       "    <tr>\n",
       "      <th>9</th>\n",
       "      <td>2024-07-27</td>\n",
       "      <td>Gold Medal</td>\n",
       "      <td>1.0</td>\n",
       "      <td>KONG Man Wai Vivian</td>\n",
       "      <td>Female</td>\n",
       "      <td>HKG</td>\n",
       "      <td>Hong Kong, China</td>\n",
       "      <td>Hong Kong, China</td>\n",
       "      <td>HKG</td>\n",
       "      <td>Hong Kong, China</td>\n",
       "      <td>...</td>\n",
       "      <td>NaN</td>\n",
       "      <td>NaN</td>\n",
       "      <td>Fencing</td>\n",
       "      <td>Women's Épée Individual</td>\n",
       "      <td>HATH</td>\n",
       "      <td>/en/paris-2024/results/fencing/women-s-epee-in...</td>\n",
       "      <td>1994-02-08</td>\n",
       "      <td>1963262</td>\n",
       "      <td>NaN</td>\n",
       "      <td>True</td>\n",
       "    </tr>\n",
       "    <tr>\n",
       "      <th>12</th>\n",
       "      <td>2024-07-27</td>\n",
       "      <td>Gold Medal</td>\n",
       "      <td>1.0</td>\n",
       "      <td>SMETOV Yeldos</td>\n",
       "      <td>Male</td>\n",
       "      <td>KAZ</td>\n",
       "      <td>Kazakhstan</td>\n",
       "      <td>Kazakhstan</td>\n",
       "      <td>KAZ</td>\n",
       "      <td>Kazakhstan</td>\n",
       "      <td>...</td>\n",
       "      <td>NaN</td>\n",
       "      <td>NaN</td>\n",
       "      <td>Judo</td>\n",
       "      <td>Men -60 kg</td>\n",
       "      <td>HATH</td>\n",
       "      <td>/en/paris-2024/results/judo/men--60-kg/fnl-000...</td>\n",
       "      <td>1992-09-09</td>\n",
       "      <td>1935408</td>\n",
       "      <td>NaN</td>\n",
       "      <td>True</td>\n",
       "    </tr>\n",
       "  </tbody>\n",
       "</table>\n",
       "<p>5 rows × 21 columns</p>\n",
       "</div>"
      ],
      "text/plain": [
       "    medal_date  medal_type  medal_code                 name  gender  \\\n",
       "0   2024-07-27  Gold Medal         1.0      EVENEPOEL Remco    Male   \n",
       "3   2024-07-27  Gold Medal         1.0          BROWN Grace  Female   \n",
       "6   2024-07-27  Gold Medal         1.0            OH Sanguk    Male   \n",
       "9   2024-07-27  Gold Medal         1.0  KONG Man Wai Vivian  Female   \n",
       "12  2024-07-27  Gold Medal         1.0        SMETOV Yeldos    Male   \n",
       "\n",
       "   country_code           country       country_long nationality_code  \\\n",
       "0           BEL           Belgium            Belgium              BEL   \n",
       "3           AUS         Australia          Australia              AUS   \n",
       "6           KOR             Korea  Republic of Korea              KOR   \n",
       "9           HKG  Hong Kong, China   Hong Kong, China              HKG   \n",
       "12          KAZ        Kazakhstan         Kazakhstan              KAZ   \n",
       "\n",
       "         nationality  ... team team_gender    discipline  \\\n",
       "0            Belgium  ...  NaN         NaN  Cycling Road   \n",
       "3          Australia  ...  NaN         NaN  Cycling Road   \n",
       "6              Korea  ...  NaN         NaN       Fencing   \n",
       "9   Hong Kong, China  ...  NaN         NaN       Fencing   \n",
       "12        Kazakhstan  ...  NaN         NaN          Judo   \n",
       "\n",
       "                            event event_type  \\\n",
       "0     Men's Individual Time Trial        ATH   \n",
       "3   Women's Individual Time Trial        ATH   \n",
       "6          Men's Sabre Individual       HATH   \n",
       "9         Women's Épée Individual       HATH   \n",
       "12                     Men -60 kg       HATH   \n",
       "\n",
       "                                            url_event  birth_date  \\\n",
       "0   /en/paris-2024/results/cycling-road/men-s-indi...  2000-01-25   \n",
       "3   /en/paris-2024/results/cycling-road/women-s-in...  1992-07-07   \n",
       "6   /en/paris-2024/results/fencing/men-s-sabre-ind...  1996-09-30   \n",
       "9   /en/paris-2024/results/fencing/women-s-epee-in...  1994-02-08   \n",
       "12  /en/paris-2024/results/judo/men--60-kg/fnl-000...  1992-09-09   \n",
       "\n",
       "   code_athlete  code_team is_medallist  \n",
       "0       1903136        NaN         True  \n",
       "3       1940173        NaN         True  \n",
       "6       1927149        NaN         True  \n",
       "9       1963262        NaN         True  \n",
       "12      1935408        NaN         True  \n",
       "\n",
       "[5 rows x 21 columns]"
      ]
     },
     "execution_count": 89,
     "metadata": {},
     "output_type": "execute_result"
    }
   ],
   "source": [
    "golds.head()"
   ]
  },
  {
   "cell_type": "code",
   "execution_count": 91,
   "id": "fc722c69-2543-4d2f-9d35-7258fe21b469",
   "metadata": {},
   "outputs": [
    {
     "name": "stderr",
     "output_type": "stream",
     "text": [
      "C:\\Users\\lucil\\AppData\\Local\\Temp\\ipykernel_16080\\2248241628.py:1: SettingWithCopyWarning: \n",
      "A value is trying to be set on a copy of a slice from a DataFrame.\n",
      "Try using .loc[row_indexer,col_indexer] = value instead\n",
      "\n",
      "See the caveats in the documentation: https://pandas.pydata.org/pandas-docs/stable/user_guide/indexing.html#returning-a-view-versus-a-copy\n",
      "  golds['birth_date']=pd.to_datetime(golds['birth_date'],format=\"mixed\")\n",
      "C:\\Users\\lucil\\AppData\\Local\\Temp\\ipykernel_16080\\2248241628.py:2: SettingWithCopyWarning: \n",
      "A value is trying to be set on a copy of a slice from a DataFrame.\n",
      "Try using .loc[row_indexer,col_indexer] = value instead\n",
      "\n",
      "See the caveats in the documentation: https://pandas.pydata.org/pandas-docs/stable/user_guide/indexing.html#returning-a-view-versus-a-copy\n",
      "  golds['medal_date']=pd.to_datetime(golds['medal_date'],format=\"mixed\")\n"
     ]
    }
   ],
   "source": [
    "golds['birth_date']=pd.to_datetime(golds['birth_date'],format=\"mixed\")\n",
    "golds['medal_date']=pd.to_datetime(golds['medal_date'],format=\"mixed\")"
   ]
  },
  {
   "cell_type": "code",
   "execution_count": 99,
   "id": "e0675906-2d5d-4263-bc4e-0e2341438684",
   "metadata": {},
   "outputs": [],
   "source": [
    "Ages=(golds['medal_date'].dt.year-golds['birth_date'].dt.year)"
   ]
  },
  {
   "cell_type": "code",
   "execution_count": 101,
   "id": "28258884-cc3d-45f3-9c75-16ed68e45069",
   "metadata": {},
   "outputs": [
    {
     "data": {
      "text/plain": [
       "26.993351063829788"
      ]
     },
     "execution_count": 101,
     "metadata": {},
     "output_type": "execute_result"
    }
   ],
   "source": [
    "Ages.mean()"
   ]
  },
  {
   "cell_type": "markdown",
   "id": "026d88a6",
   "metadata": {},
   "source": [
    "## 6. List the names of all athletes who won a silver medal in a cycling event.\n",
    "*Hint: Filter by `medal_type` (Silver) and `discipline` (Cycling Road), then display the `name` column.*"
   ]
  },
  {
   "cell_type": "code",
   "execution_count": 61,
   "id": "215ab6f4",
   "metadata": {},
   "outputs": [
    {
     "data": {
      "text/html": [
       "<div>\n",
       "<style scoped>\n",
       "    .dataframe tbody tr th:only-of-type {\n",
       "        vertical-align: middle;\n",
       "    }\n",
       "\n",
       "    .dataframe tbody tr th {\n",
       "        vertical-align: top;\n",
       "    }\n",
       "\n",
       "    .dataframe thead th {\n",
       "        text-align: right;\n",
       "    }\n",
       "</style>\n",
       "<table border=\"1\" class=\"dataframe\">\n",
       "  <thead>\n",
       "    <tr style=\"text-align: right;\">\n",
       "      <th></th>\n",
       "      <th>medal_date</th>\n",
       "      <th>medal_type</th>\n",
       "      <th>medal_code</th>\n",
       "      <th>name</th>\n",
       "      <th>gender</th>\n",
       "      <th>country_code</th>\n",
       "      <th>country</th>\n",
       "      <th>country_long</th>\n",
       "      <th>nationality_code</th>\n",
       "      <th>nationality</th>\n",
       "      <th>...</th>\n",
       "      <th>team</th>\n",
       "      <th>team_gender</th>\n",
       "      <th>discipline</th>\n",
       "      <th>event</th>\n",
       "      <th>event_type</th>\n",
       "      <th>url_event</th>\n",
       "      <th>birth_date</th>\n",
       "      <th>code_athlete</th>\n",
       "      <th>code_team</th>\n",
       "      <th>is_medallist</th>\n",
       "    </tr>\n",
       "  </thead>\n",
       "  <tbody>\n",
       "    <tr>\n",
       "      <th>1</th>\n",
       "      <td>2024-07-27</td>\n",
       "      <td>Silver Medal</td>\n",
       "      <td>2.0</td>\n",
       "      <td>GANNA Filippo</td>\n",
       "      <td>Male</td>\n",
       "      <td>ITA</td>\n",
       "      <td>Italy</td>\n",
       "      <td>Italy</td>\n",
       "      <td>ITA</td>\n",
       "      <td>Italy</td>\n",
       "      <td>...</td>\n",
       "      <td>NaN</td>\n",
       "      <td>NaN</td>\n",
       "      <td>Cycling Road</td>\n",
       "      <td>Men's Individual Time Trial</td>\n",
       "      <td>ATH</td>\n",
       "      <td>/en/paris-2024/results/cycling-road/men-s-indi...</td>\n",
       "      <td>1996-07-25</td>\n",
       "      <td>1923520</td>\n",
       "      <td>NaN</td>\n",
       "      <td>True</td>\n",
       "    </tr>\n",
       "    <tr>\n",
       "      <th>4</th>\n",
       "      <td>2024-07-27</td>\n",
       "      <td>Silver Medal</td>\n",
       "      <td>2.0</td>\n",
       "      <td>HENDERSON Anna</td>\n",
       "      <td>Female</td>\n",
       "      <td>GBR</td>\n",
       "      <td>Great Britain</td>\n",
       "      <td>Great Britain</td>\n",
       "      <td>GBR</td>\n",
       "      <td>Great Britain</td>\n",
       "      <td>...</td>\n",
       "      <td>NaN</td>\n",
       "      <td>NaN</td>\n",
       "      <td>Cycling Road</td>\n",
       "      <td>Women's Individual Time Trial</td>\n",
       "      <td>ATH</td>\n",
       "      <td>/en/paris-2024/results/cycling-road/women-s-in...</td>\n",
       "      <td>1998-11-14</td>\n",
       "      <td>1912525</td>\n",
       "      <td>NaN</td>\n",
       "      <td>True</td>\n",
       "    </tr>\n",
       "    <tr>\n",
       "      <th>267</th>\n",
       "      <td>2024-08-03</td>\n",
       "      <td>Silver Medal</td>\n",
       "      <td>2.0</td>\n",
       "      <td>MADOUAS Valentin</td>\n",
       "      <td>Male</td>\n",
       "      <td>FRA</td>\n",
       "      <td>France</td>\n",
       "      <td>France</td>\n",
       "      <td>FRA</td>\n",
       "      <td>France</td>\n",
       "      <td>...</td>\n",
       "      <td>NaN</td>\n",
       "      <td>NaN</td>\n",
       "      <td>Cycling Road</td>\n",
       "      <td>Men's Road Race</td>\n",
       "      <td>ATH</td>\n",
       "      <td>/en/paris-2024/results/cycling-road/men-s-road...</td>\n",
       "      <td>1996-07-12</td>\n",
       "      <td>1895699</td>\n",
       "      <td>NaN</td>\n",
       "      <td>True</td>\n",
       "    </tr>\n",
       "    <tr>\n",
       "      <th>336</th>\n",
       "      <td>2024-08-04</td>\n",
       "      <td>Silver Medal</td>\n",
       "      <td>2.0</td>\n",
       "      <td>VOS Marianne</td>\n",
       "      <td>Female</td>\n",
       "      <td>NED</td>\n",
       "      <td>Netherlands</td>\n",
       "      <td>Netherlands</td>\n",
       "      <td>NED</td>\n",
       "      <td>Netherlands</td>\n",
       "      <td>...</td>\n",
       "      <td>NaN</td>\n",
       "      <td>NaN</td>\n",
       "      <td>Cycling Road</td>\n",
       "      <td>Women's Road Race</td>\n",
       "      <td>ATH</td>\n",
       "      <td>/en/paris-2024/results/cycling-road/women-s-ro...</td>\n",
       "      <td>1987-05-13</td>\n",
       "      <td>1969165</td>\n",
       "      <td>NaN</td>\n",
       "      <td>True</td>\n",
       "    </tr>\n",
       "  </tbody>\n",
       "</table>\n",
       "<p>4 rows × 21 columns</p>\n",
       "</div>"
      ],
      "text/plain": [
       "     medal_date    medal_type  medal_code              name  gender  \\\n",
       "1    2024-07-27  Silver Medal         2.0     GANNA Filippo    Male   \n",
       "4    2024-07-27  Silver Medal         2.0    HENDERSON Anna  Female   \n",
       "267  2024-08-03  Silver Medal         2.0  MADOUAS Valentin    Male   \n",
       "336  2024-08-04  Silver Medal         2.0      VOS Marianne  Female   \n",
       "\n",
       "    country_code        country   country_long nationality_code  \\\n",
       "1            ITA          Italy          Italy              ITA   \n",
       "4            GBR  Great Britain  Great Britain              GBR   \n",
       "267          FRA         France         France              FRA   \n",
       "336          NED    Netherlands    Netherlands              NED   \n",
       "\n",
       "       nationality  ... team team_gender    discipline  \\\n",
       "1            Italy  ...  NaN         NaN  Cycling Road   \n",
       "4    Great Britain  ...  NaN         NaN  Cycling Road   \n",
       "267         France  ...  NaN         NaN  Cycling Road   \n",
       "336    Netherlands  ...  NaN         NaN  Cycling Road   \n",
       "\n",
       "                             event event_type  \\\n",
       "1      Men's Individual Time Trial        ATH   \n",
       "4    Women's Individual Time Trial        ATH   \n",
       "267                Men's Road Race        ATH   \n",
       "336              Women's Road Race        ATH   \n",
       "\n",
       "                                             url_event  birth_date  \\\n",
       "1    /en/paris-2024/results/cycling-road/men-s-indi...  1996-07-25   \n",
       "4    /en/paris-2024/results/cycling-road/women-s-in...  1998-11-14   \n",
       "267  /en/paris-2024/results/cycling-road/men-s-road...  1996-07-12   \n",
       "336  /en/paris-2024/results/cycling-road/women-s-ro...  1987-05-13   \n",
       "\n",
       "    code_athlete  code_team is_medallist  \n",
       "1        1923520        NaN         True  \n",
       "4        1912525        NaN         True  \n",
       "267      1895699        NaN         True  \n",
       "336      1969165        NaN         True  \n",
       "\n",
       "[4 rows x 21 columns]"
      ]
     },
     "execution_count": 61,
     "metadata": {},
     "output_type": "execute_result"
    }
   ],
   "source": [
    "# Your code here\n",
    "data[(data.medal_type==\"Silver Medal\") & (data.discipline==\"Cycling Road\")]"
   ]
  },
  {
   "cell_type": "markdown",
   "id": "49ee100b",
   "metadata": {},
   "source": [
    "## 7. How many events did female athletes participate in?\n",
    "*Hint: Filter on `gender` (Female) and count the unique values in the `event` column.*"
   ]
  },
  {
   "cell_type": "code",
   "execution_count": 121,
   "id": "2d092dd5",
   "metadata": {},
   "outputs": [
    {
     "data": {
      "text/plain": [
       "150"
      ]
     },
     "execution_count": 121,
     "metadata": {},
     "output_type": "execute_result"
    }
   ],
   "source": [
    "# Your code here\n",
    "FAthletes=data[(data.gender==\"Female\")]\n",
    "len(FAthletes[\"event\"].unique())"
   ]
  },
  {
   "cell_type": "markdown",
   "id": "5643d60e",
   "metadata": {},
   "source": [
    "## 8. Which country had the highest number of gold medals?\n",
    "*Hint: Filter for `Gold Medal` in the `medal_type` column and use `value_counts()` on the `country` column.*"
   ]
  },
  {
   "cell_type": "code",
   "execution_count": 65,
   "id": "ed09fc9e",
   "metadata": {},
   "outputs": [
    {
     "data": {
      "text/plain": [
       "'United States'"
      ]
     },
     "execution_count": 65,
     "metadata": {},
     "output_type": "execute_result"
    }
   ],
   "source": [
    "# Your code here\n",
    "Golds=data[(data.medal_type==\"Gold Medal\")]\n",
    "Golds['country'].value_counts().idxmax()"
   ]
  },
  {
   "cell_type": "markdown",
   "id": "f982cb2a",
   "metadata": {},
   "source": [
    "## 9. What are the top three most common disciplines for male athletes?\n",
    "*Hint: Filter by `gender` (Male) and use `value_counts()` on the `discipline` column to get the top three.*"
   ]
  },
  {
   "cell_type": "code",
   "execution_count": 123,
   "id": "3c38804f",
   "metadata": {},
   "outputs": [
    {
     "data": {
      "text/plain": [
       "discipline\n",
       "Athletics    113\n",
       "Swimming     107\n",
       "Rowing        72\n",
       "Name: count, dtype: int64"
      ]
     },
     "execution_count": 123,
     "metadata": {},
     "output_type": "execute_result"
    }
   ],
   "source": [
    "# Your code here\n",
    "MAthletes=data[(data.gender==\"Male\")]\n",
    "MAthletes[\"discipline\"].value_counts().head(3)"
   ]
  },
  {
   "cell_type": "markdown",
   "id": "acc430dc",
   "metadata": {},
   "source": [
    "## 10. Find the youngest and oldest medalists in the dataset.\n",
    "*Hint: Calculate the difference between `medal_date` and `birth_date`, then use `min()` and `max()`.*"
   ]
  },
  {
   "cell_type": "code",
   "execution_count": 131,
   "id": "f883224a",
   "metadata": {},
   "outputs": [],
   "source": [
    "# Your code here\n",
    "data['age']=(data['medal_date'].dt.year-data['birth_date'].dt.year)\n"
   ]
  },
  {
   "cell_type": "code",
   "execution_count": 133,
   "id": "ca79fa49-435f-44ba-9692-f0bfe25b90e4",
   "metadata": {},
   "outputs": [
    {
     "data": {
      "text/html": [
       "<div>\n",
       "<style scoped>\n",
       "    .dataframe tbody tr th:only-of-type {\n",
       "        vertical-align: middle;\n",
       "    }\n",
       "\n",
       "    .dataframe tbody tr th {\n",
       "        vertical-align: top;\n",
       "    }\n",
       "\n",
       "    .dataframe thead th {\n",
       "        text-align: right;\n",
       "    }\n",
       "</style>\n",
       "<table border=\"1\" class=\"dataframe\">\n",
       "  <thead>\n",
       "    <tr style=\"text-align: right;\">\n",
       "      <th></th>\n",
       "      <th>medal_date</th>\n",
       "      <th>medal_type</th>\n",
       "      <th>medal_code</th>\n",
       "      <th>name</th>\n",
       "      <th>gender</th>\n",
       "      <th>country_code</th>\n",
       "      <th>country</th>\n",
       "      <th>country_long</th>\n",
       "      <th>nationality_code</th>\n",
       "      <th>nationality</th>\n",
       "      <th>...</th>\n",
       "      <th>team_gender</th>\n",
       "      <th>discipline</th>\n",
       "      <th>event</th>\n",
       "      <th>event_type</th>\n",
       "      <th>url_event</th>\n",
       "      <th>birth_date</th>\n",
       "      <th>code_athlete</th>\n",
       "      <th>code_team</th>\n",
       "      <th>is_medallist</th>\n",
       "      <th>age</th>\n",
       "    </tr>\n",
       "  </thead>\n",
       "  <tbody>\n",
       "    <tr>\n",
       "      <th>432</th>\n",
       "      <td>2024-08-06</td>\n",
       "      <td>Gold Medal</td>\n",
       "      <td>1.0</td>\n",
       "      <td>TREW Arisa</td>\n",
       "      <td>Female</td>\n",
       "      <td>AUS</td>\n",
       "      <td>Australia</td>\n",
       "      <td>Australia</td>\n",
       "      <td>AUS</td>\n",
       "      <td>Australia</td>\n",
       "      <td>...</td>\n",
       "      <td>NaN</td>\n",
       "      <td>Skateboarding</td>\n",
       "      <td>Women's Park</td>\n",
       "      <td>ATH</td>\n",
       "      <td>/en/paris-2024/results/skateboarding/women-s-p...</td>\n",
       "      <td>2010-05-12</td>\n",
       "      <td>1946064</td>\n",
       "      <td>NaN</td>\n",
       "      <td>True</td>\n",
       "      <td>14</td>\n",
       "    </tr>\n",
       "  </tbody>\n",
       "</table>\n",
       "<p>1 rows × 22 columns</p>\n",
       "</div>"
      ],
      "text/plain": [
       "    medal_date  medal_type  medal_code        name  gender country_code  \\\n",
       "432 2024-08-06  Gold Medal         1.0  TREW Arisa  Female          AUS   \n",
       "\n",
       "       country country_long nationality_code nationality  ... team_gender  \\\n",
       "432  Australia    Australia              AUS   Australia  ...         NaN   \n",
       "\n",
       "        discipline         event event_type  \\\n",
       "432  Skateboarding  Women's Park        ATH   \n",
       "\n",
       "                                             url_event birth_date  \\\n",
       "432  /en/paris-2024/results/skateboarding/women-s-p... 2010-05-12   \n",
       "\n",
       "    code_athlete code_team  is_medallist age  \n",
       "432      1946064       NaN          True  14  \n",
       "\n",
       "[1 rows x 22 columns]"
      ]
     },
     "execution_count": 133,
     "metadata": {},
     "output_type": "execute_result"
    }
   ],
   "source": [
    "data[data['age'] == data['age'].min()]"
   ]
  },
  {
   "cell_type": "code",
   "execution_count": 135,
   "id": "a82f20b5-90dd-403f-ba75-0d129f86105d",
   "metadata": {},
   "outputs": [
    {
     "data": {
      "text/html": [
       "<div>\n",
       "<style scoped>\n",
       "    .dataframe tbody tr th:only-of-type {\n",
       "        vertical-align: middle;\n",
       "    }\n",
       "\n",
       "    .dataframe tbody tr th {\n",
       "        vertical-align: top;\n",
       "    }\n",
       "\n",
       "    .dataframe thead th {\n",
       "        text-align: right;\n",
       "    }\n",
       "</style>\n",
       "<table border=\"1\" class=\"dataframe\">\n",
       "  <thead>\n",
       "    <tr style=\"text-align: right;\">\n",
       "      <th></th>\n",
       "      <th>medal_date</th>\n",
       "      <th>medal_type</th>\n",
       "      <th>medal_code</th>\n",
       "      <th>name</th>\n",
       "      <th>gender</th>\n",
       "      <th>country_code</th>\n",
       "      <th>country</th>\n",
       "      <th>country_long</th>\n",
       "      <th>nationality_code</th>\n",
       "      <th>nationality</th>\n",
       "      <th>...</th>\n",
       "      <th>team_gender</th>\n",
       "      <th>discipline</th>\n",
       "      <th>event</th>\n",
       "      <th>event_type</th>\n",
       "      <th>url_event</th>\n",
       "      <th>birth_date</th>\n",
       "      <th>code_athlete</th>\n",
       "      <th>code_team</th>\n",
       "      <th>is_medallist</th>\n",
       "      <th>age</th>\n",
       "    </tr>\n",
       "  </thead>\n",
       "  <tbody>\n",
       "    <tr>\n",
       "      <th>1126</th>\n",
       "      <td>2024-08-02</td>\n",
       "      <td>Silver Medal</td>\n",
       "      <td>2.0</td>\n",
       "      <td>KRAUT Laura</td>\n",
       "      <td>Female</td>\n",
       "      <td>USA</td>\n",
       "      <td>United States</td>\n",
       "      <td>United States of America</td>\n",
       "      <td>USA</td>\n",
       "      <td>United States</td>\n",
       "      <td>...</td>\n",
       "      <td>O</td>\n",
       "      <td>Equestrian</td>\n",
       "      <td>Jumping Team</td>\n",
       "      <td>TEAM</td>\n",
       "      <td>/en/paris-2024/results/equestrian/jumping-team...</td>\n",
       "      <td>1965-11-14</td>\n",
       "      <td>1951840</td>\n",
       "      <td>EQUOJUMPTEAMUSA01</td>\n",
       "      <td>True</td>\n",
       "      <td>59</td>\n",
       "    </tr>\n",
       "  </tbody>\n",
       "</table>\n",
       "<p>1 rows × 22 columns</p>\n",
       "</div>"
      ],
      "text/plain": [
       "     medal_date    medal_type  medal_code         name  gender country_code  \\\n",
       "1126 2024-08-02  Silver Medal         2.0  KRAUT Laura  Female          USA   \n",
       "\n",
       "            country              country_long nationality_code    nationality  \\\n",
       "1126  United States  United States of America              USA  United States   \n",
       "\n",
       "      ... team_gender  discipline         event event_type  \\\n",
       "1126  ...           O  Equestrian  Jumping Team       TEAM   \n",
       "\n",
       "                                              url_event birth_date  \\\n",
       "1126  /en/paris-2024/results/equestrian/jumping-team... 1965-11-14   \n",
       "\n",
       "     code_athlete          code_team  is_medallist age  \n",
       "1126      1951840  EQUOJUMPTEAMUSA01          True  59  \n",
       "\n",
       "[1 rows x 22 columns]"
      ]
     },
     "execution_count": 135,
     "metadata": {},
     "output_type": "execute_result"
    }
   ],
   "source": [
    "data[data['age'] == data['age'].max()]"
   ]
  },
  {
   "cell_type": "code",
   "execution_count": null,
   "id": "c59efb61-2cc3-4838-8905-2c77ed135ec5",
   "metadata": {},
   "outputs": [],
   "source": []
  },
  {
   "cell_type": "code",
   "execution_count": null,
   "id": "728d11bc-2d2b-465b-a6d1-a6f5e843e313",
   "metadata": {},
   "outputs": [],
   "source": []
  },
  {
   "cell_type": "code",
   "execution_count": null,
   "id": "ae8f4453-ad9c-4c27-90da-efb72a515cd8",
   "metadata": {},
   "outputs": [],
   "source": []
  }
 ],
 "metadata": {
  "kernelspec": {
   "display_name": "Python 3 (ipykernel)",
   "language": "python",
   "name": "python3"
  },
  "language_info": {
   "codemirror_mode": {
    "name": "ipython",
    "version": 3
   },
   "file_extension": ".py",
   "mimetype": "text/x-python",
   "name": "python",
   "nbconvert_exporter": "python",
   "pygments_lexer": "ipython3",
   "version": "3.12.4"
  }
 },
 "nbformat": 4,
 "nbformat_minor": 5
}
